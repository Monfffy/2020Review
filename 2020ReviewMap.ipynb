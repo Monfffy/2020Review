{
 "cells": [
  {
   "cell_type": "code",
   "execution_count": 1,
   "metadata": {},
   "outputs": [],
   "source": [
    "import pandas as pd\n",
    "from pyecharts.charts import Map\n",
    "from pyecharts import options as opts"
   ]
  },
  {
   "cell_type": "code",
   "execution_count": 2,
   "metadata": {},
   "outputs": [
    {
     "name": "stdout",
     "output_type": "stream",
     "text": [
      "[('北京', 43), ('上海', 17), ('三亚', 16), ('长沙', 7), ('无锡', 3), ('杭州', 1), ('廊坊', 1), ('敦煌', 1), ('深圳', 1), ('南京', 1), ('广州', 1)]\n"
     ]
    }
   ],
   "source": [
    "data_city = [('北京', 43), ('上海', 17), ('三亚', 16), ('长沙', 7), ('无锡', 3), ('杭州', 1), ('廊坊', 1), ('敦煌', 1), ('深圳', 1), ('南京', 1), ('广州', 1)]\n",
    "print(data_city)"
   ]
  },
  {
   "cell_type": "code",
   "execution_count": 3,
   "metadata": {},
   "outputs": [],
   "source": [
    "china_city = (\n",
    "    Map()\n",
    "    .add(\n",
    "        \"\",\n",
    "        data_city,\n",
    "        \"china-cities\",\n",
    "        label_opts=opts.LabelOpts(is_show=False),\n",
    "    )\n",
    "    .set_global_opts(\n",
    "        title_opts=opts.TitleOpts(title=\"2020_Review\"),\n",
    "        visualmap_opts=opts.VisualMapOpts(\n",
    "            min_=1,\n",
    "            max_=50,\n",
    "            is_piecewise=True\n",
    "        ),\n",
    "    )\n",
    "    .render(\"2020_Review.html\")\n",
    ")"
   ]
  }
 ],
 "metadata": {
  "kernelspec": {
   "display_name": "Python 3",
   "language": "python",
   "name": "python3"
  },
  "language_info": {
   "codemirror_mode": {
    "name": "ipython",
    "version": 3
   },
   "file_extension": ".py",
   "mimetype": "text/x-python",
   "name": "python",
   "nbconvert_exporter": "python",
   "pygments_lexer": "ipython3",
   "version": "3.7.1"
  }
 },
 "nbformat": 4,
 "nbformat_minor": 2
}
